{
 "cells": [
  {
   "cell_type": "markdown",
   "metadata": {
    "id": "uGd4NYQX1Rf_"
   },
   "source": [
    "*Note: You are currently reading this using Google Colaboratory which is a cloud-hosted version of Jupyter Notebook. This is a document containing both text cells for documentation and runnable code cells. If you are unfamiliar with Jupyter Notebook, watch this 3-minute introduction before starting this challenge: https://www.youtube.com/watch?v=inN8seMm7UI*\n",
    "\n",
    "---\n",
    "\n",
    "In this challenge, you will create a book recommendation algorithm using **K-Nearest Neighbors**.\n",
    "\n",
    "You will use the [Book-Crossings dataset](http://www2.informatik.uni-freiburg.de/~cziegler/BX/). This dataset contains 1.1 million ratings (scale of 1-10) of 270,000 books by 90,000 users. \n",
    "\n",
    "After importing and cleaning the data, use `NearestNeighbors` from `sklearn.neighbors` to develop a model that shows books that are similar to a given book. The Nearest Neighbors algorithm measures distance to determine the “closeness” of instances.\n",
    "\n",
    "Create a function named `get_recommends` that takes a book title (from the dataset) as an argument and returns a list of 5 similar books with their distances from the book argument.\n",
    "\n",
    "This code:\n",
    "\n",
    "`get_recommends(\"The Queen of the Damned (Vampire Chronicles (Paperback))\")`\n",
    "\n",
    "should return:\n",
    "\n",
    "```\n",
    "[\n",
    "  'The Queen of the Damned (Vampire Chronicles (Paperback))',\n",
    "  [\n",
    "    ['Catch 22', 0.793983519077301], \n",
    "    ['The Witching Hour (Lives of the Mayfair Witches)', 0.7448656558990479], \n",
    "    ['Interview with the Vampire', 0.7345068454742432],\n",
    "    ['The Tale of the Body Thief (Vampire Chronicles (Paperback))', 0.5376338362693787],\n",
    "    ['The Vampire Lestat (Vampire Chronicles, Book II)', 0.5178412199020386]\n",
    "  ]\n",
    "]\n",
    "```\n",
    "\n",
    "Notice that the data returned from `get_recommends()` is a list. The first element in the list is the book title passed in to the function. The second element in the list is a list of five more lists. Each of the five lists contains a recommended book and the distance from the recommended book to the book passed in to the function.\n",
    "\n",
    "If you graph the dataset (optional), you will notice that most books are not rated frequently. To ensure statistical significance, remove from the dataset users with less than 200 ratings and books with less than 100 ratings.\n",
    "\n",
    "The first three cells import libraries you may need and the data to use. The final cell is for testing. Write all your code in between those cells."
   ]
  },
  {
   "cell_type": "code",
   "execution_count": 1,
   "metadata": {
    "id": "Y1onB6kUvo4Z"
   },
   "outputs": [],
   "source": [
    "# import libraries (you may add additional imports but you may not have to)\n",
    "import numpy as np\n",
    "import pandas as pd\n",
    "from scipy.sparse import csr_matrix\n",
    "from sklearn.neighbors import NearestNeighbors\n",
    "import matplotlib.pyplot as plt"
   ]
  },
  {
   "cell_type": "code",
   "execution_count": 2,
   "metadata": {
    "id": "iAQGqqO_vo4d"
   },
   "outputs": [
    {
     "name": "stdout",
     "output_type": "stream",
     "text": [
      "--2021-12-04 07:34:58--  https://cdn.freecodecamp.org/project-data/books/book-crossings.zip\n",
      "Resolving cdn.freecodecamp.org (cdn.freecodecamp.org)... 104.26.3.33, 172.67.70.149, 104.26.2.33, ...\n",
      "Connecting to cdn.freecodecamp.org (cdn.freecodecamp.org)|104.26.3.33|:443... connected.\n",
      "HTTP request sent, awaiting response... 200 OK\n",
      "Length: 26085508 (25M) [application/zip]\n",
      "Saving to: ‘book-crossings.zip’\n",
      "\n",
      "book-crossings.zip  100%[===================>]  24.88M  2.32MB/s    in 11s     \n",
      "\n",
      "2021-12-04 07:35:11 (2.24 MB/s) - ‘book-crossings.zip’ saved [26085508/26085508]\n",
      "\n",
      "Archive:  book-crossings.zip\n",
      "  inflating: BX-Book-Ratings.csv     \n",
      "  inflating: BX-Books.csv            \n",
      "  inflating: BX-Users.csv            \n"
     ]
    }
   ],
   "source": [
    "# get data files\n",
    "!wget https://cdn.freecodecamp.org/project-data/books/book-crossings.zip --no-check-certificate\n",
    "\n",
    "!unzip book-crossings.zip\n",
    "\n",
    "books_filename = 'BX-Books.csv'\n",
    "ratings_filename = 'BX-Book-Ratings.csv'"
   ]
  },
  {
   "cell_type": "code",
   "execution_count": 3,
   "metadata": {
    "id": "NClILWOiEd6Q"
   },
   "outputs": [],
   "source": [
    "# import csv data into dataframes\n",
    "df_books = pd.read_csv(\n",
    "    books_filename,\n",
    "    encoding = \"ISO-8859-1\",\n",
    "    sep=\";\",\n",
    "    header=0,\n",
    "    names=['isbn', 'title', 'author'],\n",
    "    usecols=['isbn', 'title', 'author'],\n",
    "    dtype={'isbn': 'str', 'title': 'str', 'author': 'str'})\n",
    "\n",
    "df_ratings = pd.read_csv(\n",
    "    ratings_filename,\n",
    "    encoding = \"ISO-8859-1\",\n",
    "    sep=\";\",\n",
    "    header=0,\n",
    "    names=['user', 'isbn', 'rating'],\n",
    "    usecols=['user', 'isbn', 'rating'],\n",
    "    dtype={'user': 'int32', 'isbn': 'str', 'rating': 'float32'})"
   ]
  },
  {
   "cell_type": "code",
   "execution_count": 4,
   "metadata": {
    "id": "xAcXjkCFCh0A"
   },
   "outputs": [],
   "source": [
    "# add your code here - consider creating a new cell for each section of code\n",
    "#df_ratings = df_ratings.groupby('user').filter(lambda grp: len(grp) >= 200)\n",
    "#df_ratings.groupby('isbn').filter(lambda grp: len(grp) >= 100)\n",
    "\n",
    "#counts1 = df_ratings['user'].value_counts()\n",
    "#df_ratings = df_ratings[df_ratings['user'].isin(counts1[counts1 >= 200].index)]\n",
    "#counts = df_ratings['rating'].value_counts()\n",
    "#df_ratings = df_ratings[df_ratings['rating'].isin(counts[counts >= 100].index)]\n",
    "\n",
    "df = df_ratings\n",
    "\n",
    "counts1 = df['user'].value_counts()\n",
    "counts2 = df['isbn'].value_counts()\n",
    "\n",
    "df = df[~df['user'].isin(counts1[counts1 < 200].index)]\n",
    "df = df[~df['isbn'].isin(counts2[counts2 < 100].index)]\n",
    "\n",
    "df = pd.merge(right=df, left = df_books, on=\"isbn\")\n",
    "\n",
    "df = df.drop_duplicates([\"title\", \"user\"])\n",
    "\n",
    "piv = df.pivot(index='title', columns='user', values='rating').fillna(0) \n"
   ]
  },
  {
   "cell_type": "code",
   "execution_count": 5,
   "metadata": {
    "id": "VTij53gzoYak"
   },
   "outputs": [
    {
     "data": {
      "text/plain": [
       "NearestNeighbors(algorithm='brute', metric='cosine')"
      ]
     },
     "execution_count": 5,
     "metadata": {},
     "output_type": "execute_result"
    }
   ],
   "source": [
    "matrix = piv.values\n",
    "\n",
    "knn_model = NearestNeighbors(metric='cosine', algorithm='brute', p=2)\n",
    "knn_model.fit(matrix)"
   ]
  },
  {
   "cell_type": "code",
   "execution_count": 6,
   "metadata": {
    "id": "Br1gZ1Tuosaf"
   },
   "outputs": [
    {
     "name": "stdout",
     "output_type": "stream",
     "text": [
      "673\n"
     ]
    }
   ],
   "source": [
    "titles = list(piv.index.values)\n",
    "print(len(titles))"
   ]
  },
  {
   "cell_type": "code",
   "execution_count": 7,
   "metadata": {
    "id": "f5ZUd-L1SQz7"
   },
   "outputs": [],
   "source": [
    "# function to return recommended books - this will be tested\n",
    "def get_recommends(book = \"\"):\n",
    "\n",
    "  distances, indices = knn_model.kneighbors(piv.loc[book].values.reshape(1, -1), len(titles), True)\n",
    "  recommended_books = [book, sum([[[piv.index[indices.flatten()[i]], distances.flatten()[i]]] for i in range(5, 0, -1)], [])]\n",
    "\n",
    "  return recommended_books"
   ]
  },
  {
   "cell_type": "code",
   "execution_count": 8,
   "metadata": {
    "id": "3Bxnneml6puT"
   },
   "outputs": [
    {
     "name": "stdout",
     "output_type": "stream",
     "text": [
      "[\"Where the Heart Is (Oprah's Book Club (Paperback))\", [[\"I'll Be Seeing You\", 0.8016211], ['The Weight of Water', 0.77085835], ['The Surgeon', 0.7699411], ['I Know This Much Is True', 0.7677075], ['The Lovely Bones: A Novel', 0.7234864]]]\n"
     ]
    }
   ],
   "source": [
    "print(get_recommends(\"Where the Heart Is (Oprah's Book Club (Paperback))\"))"
   ]
  },
  {
   "cell_type": "markdown",
   "metadata": {
    "id": "eat9A2TKawHU"
   },
   "source": [
    "Use the cell below to test your function. The `test_book_recommendation()` function will inform you if you passed the challenge or need to keep trying."
   ]
  },
  {
   "cell_type": "code",
   "execution_count": 9,
   "metadata": {
    "id": "jd2SLCh8oxMh"
   },
   "outputs": [
    {
     "name": "stdout",
     "output_type": "stream",
     "text": [
      "[\"Where the Heart Is (Oprah's Book Club (Paperback))\", [[\"I'll Be Seeing You\", 0.8016211], ['The Weight of Water', 0.77085835], ['The Surgeon', 0.7699411], ['I Know This Much Is True', 0.7677075], ['The Lovely Bones: A Novel', 0.7234864]]]\n",
      "0\n",
      "1\n",
      "You passed the challenge! 🎉🎉🎉🎉🎉\n"
     ]
    }
   ],
   "source": [
    "books = get_recommends(\"Where the Heart Is (Oprah's Book Club (Paperback))\")\n",
    "print(books)\n",
    "\n",
    "def test_book_recommendation():\n",
    "  test_pass = True\n",
    "  recommends = get_recommends(\"Where the Heart Is (Oprah's Book Club (Paperback))\")\n",
    "  if recommends[0] != \"Where the Heart Is (Oprah's Book Club (Paperback))\":\n",
    "    test_pass = False\n",
    "  recommended_books = [\"I'll Be Seeing You\", 'The Weight of Water', 'The Surgeon', 'I Know This Much Is True']\n",
    "  recommended_books_dist = [0.8, 0.77, 0.77, 0.77]\n",
    "  for i in range(2): \n",
    "    print(i)\n",
    "    recommends[1][1][0]\n",
    "    if recommends[1][i][0] not in recommended_books:\n",
    "      print(\"title failure\")\n",
    "      test_pass = False\n",
    "    if abs(recommends[1][i][1] - recommended_books_dist[i]) >= 0.05:\n",
    "      print(\"distance failure\")\n",
    "      test_pass = False\n",
    "  if test_pass:\n",
    "    print(\"You passed the challenge! 🎉🎉🎉🎉🎉\")\n",
    "  else:\n",
    "    print(\"You havn't passed yet. Keep trying!\")\n",
    "\n",
    "test_book_recommendation()"
   ]
  },
  {
   "cell_type": "code",
   "execution_count": null,
   "metadata": {
    "id": "MvB88pirKlv0"
   },
   "outputs": [],
   "source": []
  }
 ],
 "metadata": {
  "accelerator": "GPU",
  "colab": {
   "collapsed_sections": [],
   "name": "Copy of fcc_book_recommendation_knn.ipynb",
   "private_outputs": true,
   "provenance": []
  },
  "kernelspec": {
   "display_name": "Python 3",
   "language": "python",
   "name": "python3"
  },
  "language_info": {
   "codemirror_mode": {
    "name": "ipython",
    "version": 3
   },
   "file_extension": ".py",
   "mimetype": "text/x-python",
   "name": "python",
   "nbconvert_exporter": "python",
   "pygments_lexer": "ipython3",
   "version": "3.9.2"
  }
 },
 "nbformat": 4,
 "nbformat_minor": 4
}
