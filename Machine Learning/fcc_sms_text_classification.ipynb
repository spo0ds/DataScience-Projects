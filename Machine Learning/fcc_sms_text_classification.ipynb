{
 "cells": [
  {
   "cell_type": "markdown",
   "metadata": {
    "id": "Eg62Pmz3o83v"
   },
   "source": [
    "*Note: You are currently reading this using Google Colaboratory which is a cloud-hosted version of Jupyter Notebook. This is a document containing both text cells for documentation and runnable code cells. If you are unfamiliar with Jupyter Notebook, watch this 3-minute introduction before starting this challenge: https://www.youtube.com/watch?v=inN8seMm7UI*\n",
    "\n",
    "---\n",
    "\n",
    "In this challenge, you need to create a machine learning model that will classify SMS messages as either \"ham\" or \"spam\". A \"ham\" message is a normal message sent by a friend. A \"spam\" message is an advertisement or a message sent by a company.\n",
    "\n",
    "You should create a function called `predict_message` that takes a message string as an argument and returns a list. The first element in the list should be a number between zero and one that indicates the likeliness of \"ham\" (0) or \"spam\" (1). The second element in the list should be the word \"ham\" or \"spam\", depending on which is most likely.\n",
    "\n",
    "For this challenge, you will use the [SMS Spam Collection dataset](http://www.dt.fee.unicamp.br/~tiago/smsspamcollection/). The dataset has already been grouped into train data and test data.\n",
    "\n",
    "The first two cells import the libraries and data. The final cell tests your model and function. Add your code in between these cells.\n"
   ]
  },
  {
   "cell_type": "code",
   "execution_count": 1,
   "metadata": {
    "id": "8RZOuS9LWQvv"
   },
   "outputs": [
    {
     "name": "stdout",
     "output_type": "stream",
     "text": [
      "/bin/bash: line 1: pip: command not found\n",
      "/bin/bash: line 1: pip: command not found\n",
      "2.5.0\n"
     ]
    }
   ],
   "source": [
    "# import libraries\n",
    "try:\n",
    "  # %tensorflow_version only exists in Colab.\n",
    "  !pip install tf-nightly\n",
    "except Exception:\n",
    "  pass\n",
    "import tensorflow as tf\n",
    "import pandas as pd\n",
    "from tensorflow import keras\n",
    "!pip install tensorflow-datasets\n",
    "import tensorflow_datasets as tfds\n",
    "import numpy as np\n",
    "import matplotlib.pyplot as plt\n",
    "\n",
    "print(tf.__version__)"
   ]
  },
  {
   "cell_type": "code",
   "execution_count": 2,
   "metadata": {
    "id": "lMHwYXHXCar3"
   },
   "outputs": [
    {
     "name": "stdout",
     "output_type": "stream",
     "text": [
      "--2021-12-04 07:45:41--  https://cdn.freecodecamp.org/project-data/sms/train-data.tsv\n",
      "Resolving cdn.freecodecamp.org (cdn.freecodecamp.org)... 104.26.3.33, 104.26.2.33, 172.67.70.149, ...\n",
      "Connecting to cdn.freecodecamp.org (cdn.freecodecamp.org)|104.26.3.33|:443... connected.\n",
      "HTTP request sent, awaiting response... 200 OK\n",
      "Length: 358233 (350K) [text/tab-separated-values]\n",
      "Saving to: ‘train-data.tsv’\n",
      "\n",
      "train-data.tsv      100%[===================>] 349.84K   623KB/s    in 0.6s    \n",
      "\n",
      "2021-12-04 07:45:43 (623 KB/s) - ‘train-data.tsv’ saved [358233/358233]\n",
      "\n",
      "--2021-12-04 07:45:43--  https://cdn.freecodecamp.org/project-data/sms/valid-data.tsv\n",
      "Resolving cdn.freecodecamp.org (cdn.freecodecamp.org)... 172.67.70.149, 104.26.2.33, 104.26.3.33, ...\n",
      "Connecting to cdn.freecodecamp.org (cdn.freecodecamp.org)|172.67.70.149|:443... connected.\n",
      "HTTP request sent, awaiting response... 200 OK\n",
      "Length: 118774 (116K) [text/tab-separated-values]\n",
      "Saving to: ‘valid-data.tsv’\n",
      "\n",
      "valid-data.tsv      100%[===================>] 115.99K   406KB/s    in 0.3s    \n",
      "\n",
      "2021-12-04 07:45:45 (406 KB/s) - ‘valid-data.tsv’ saved [118774/118774]\n",
      "\n"
     ]
    }
   ],
   "source": [
    "# get data files\n",
    "!wget https://cdn.freecodecamp.org/project-data/sms/train-data.tsv\n",
    "!wget https://cdn.freecodecamp.org/project-data/sms/valid-data.tsv\n",
    "\n",
    "train_file_path = \"train-data.tsv\"\n",
    "test_file_path = \"valid-data.tsv\""
   ]
  },
  {
   "cell_type": "code",
   "execution_count": 3,
   "metadata": {
    "id": "g_h508FEClxO"
   },
   "outputs": [
    {
     "data": {
      "text/html": [
       "<div>\n",
       "<style scoped>\n",
       "    .dataframe tbody tr th:only-of-type {\n",
       "        vertical-align: middle;\n",
       "    }\n",
       "\n",
       "    .dataframe tbody tr th {\n",
       "        vertical-align: top;\n",
       "    }\n",
       "\n",
       "    .dataframe thead th {\n",
       "        text-align: right;\n",
       "    }\n",
       "</style>\n",
       "<table border=\"1\" class=\"dataframe\">\n",
       "  <thead>\n",
       "    <tr style=\"text-align: right;\">\n",
       "      <th></th>\n",
       "      <th>0</th>\n",
       "      <th>1</th>\n",
       "    </tr>\n",
       "  </thead>\n",
       "  <tbody>\n",
       "    <tr>\n",
       "      <th>0</th>\n",
       "      <td>0</td>\n",
       "      <td>ahhhh...just woken up!had a bad dream about u ...</td>\n",
       "    </tr>\n",
       "    <tr>\n",
       "      <th>1</th>\n",
       "      <td>0</td>\n",
       "      <td>you can never do nothing</td>\n",
       "    </tr>\n",
       "    <tr>\n",
       "      <th>2</th>\n",
       "      <td>0</td>\n",
       "      <td>now u sound like manky scouse boy steve,like! ...</td>\n",
       "    </tr>\n",
       "    <tr>\n",
       "      <th>3</th>\n",
       "      <td>0</td>\n",
       "      <td>mum say we wan to go then go... then she can s...</td>\n",
       "    </tr>\n",
       "    <tr>\n",
       "      <th>4</th>\n",
       "      <td>0</td>\n",
       "      <td>never y lei... i v lazy... got wat? dat day ü ...</td>\n",
       "    </tr>\n",
       "  </tbody>\n",
       "</table>\n",
       "</div>"
      ],
      "text/plain": [
       "   0                                                  1\n",
       "0  0  ahhhh...just woken up!had a bad dream about u ...\n",
       "1  0                           you can never do nothing\n",
       "2  0  now u sound like manky scouse boy steve,like! ...\n",
       "3  0  mum say we wan to go then go... then she can s...\n",
       "4  0  never y lei... i v lazy... got wat? dat day ü ..."
      ]
     },
     "execution_count": 3,
     "metadata": {},
     "output_type": "execute_result"
    }
   ],
   "source": [
    "df_train = pd.read_csv(train_file_path,sep='\\t',header=None)\n",
    "df_test = pd.read_csv(test_file_path,sep='\\t',header=None)\n",
    "df_train[0] = df_train[0].replace(\"ham\", 0)\n",
    "df_train[0] = df_train[0].replace(\"spam\", 1)\n",
    "df_test[0] = df_test[0].replace(\"ham\", 0)\n",
    "df_test[0] = df_test[0].replace(\"spam\", 1)\n",
    "df_test[0]=df_test[0].astype('int64')\n",
    "df_train[0]=df_train[0].astype('int64')\n",
    "df_train.head()"
   ]
  },
  {
   "cell_type": "code",
   "execution_count": 4,
   "metadata": {
    "id": "zOMKywn4zReN"
   },
   "outputs": [
    {
     "data": {
      "text/plain": [
       "(TensorSpec(shape=(), dtype=tf.string, name=None),\n",
       " TensorSpec(shape=(), dtype=tf.int64, name=None))"
      ]
     },
     "execution_count": 4,
     "metadata": {},
     "output_type": "execute_result"
    }
   ],
   "source": [
    "train_dataset = tf.data.Dataset.from_tensor_slices((df_train[1], df_train[0]))\n",
    "test_dataset = tf.data.Dataset.from_tensor_slices((df_test[1], df_test[0]))\n",
    "train_dataset.element_spec"
   ]
  },
  {
   "cell_type": "code",
   "execution_count": 5,
   "metadata": {
    "id": "vO4XVkQ19xco"
   },
   "outputs": [],
   "source": [
    "BUFFER_SIZE = 10000\n",
    "BATCH_SIZE = 64\n",
    "train_dataset = train_dataset.shuffle(BUFFER_SIZE).batch(BATCH_SIZE).prefetch(tf.data.AUTOTUNE)\n",
    "test_dataset = test_dataset.batch(BATCH_SIZE).prefetch(tf.data.AUTOTUNE)\n"
   ]
  },
  {
   "cell_type": "code",
   "execution_count": 6,
   "metadata": {
    "id": "Bc0lkx1oADfg"
   },
   "outputs": [
    {
     "name": "stdout",
     "output_type": "stream",
     "text": [
      "texts:  [b'k give me a sec, breaking a  &lt;#&gt;  at cstore'\n",
      " b'well done! your 4* costa del sol holiday or \\xc2\\xa35000 await collection. call 09050090044 now toclaim. sae, tcs, pobox334, stockport, sk38xh, cost\\xc2\\xa31.50/pm, max10mins'\n",
      " b'nice talking to you! please dont forget my pix :) i want to see all of you...']\n",
      "\n",
      "labels:  [0 1 0]\n"
     ]
    }
   ],
   "source": [
    "for example, label in train_dataset.take(1):\n",
    "  print('texts: ', example.numpy()[:3])\n",
    "  print()\n",
    "  print('labels: ', label.numpy()[:3])\n"
   ]
  },
  {
   "cell_type": "code",
   "execution_count": 7,
   "metadata": {
    "id": "0VQMV0Bd9xZg"
   },
   "outputs": [],
   "source": [
    "VOCAB_SIZE = 1000\n",
    "encoder = tf.keras.layers.experimental.preprocessing.TextVectorization(\n",
    "    max_tokens=VOCAB_SIZE)\n",
    "encoder.adapt(train_dataset.map(lambda text, label: text))\n"
   ]
  },
  {
   "cell_type": "code",
   "execution_count": 8,
   "metadata": {
    "id": "80-c5Uxp-uF4"
   },
   "outputs": [
    {
     "data": {
      "text/plain": [
       "array(['', '[UNK]', 'to', 'i', 'you', 'a', 'the', 'u', 'and', 'in', 'is',\n",
       "       'me', 'my', 'for', 'your', 'of', 'it', 'call', 'have', 'on'],\n",
       "      dtype='<U15')"
      ]
     },
     "execution_count": 8,
     "metadata": {},
     "output_type": "execute_result"
    }
   ],
   "source": [
    "vocab = np.array(encoder.get_vocabulary())\n",
    "vocab[:20]\n"
   ]
  },
  {
   "cell_type": "code",
   "execution_count": 9,
   "metadata": {
    "id": "OQMDnY_I-2wk"
   },
   "outputs": [
    {
     "data": {
      "text/plain": [
       "array([[189, 142,  11,   5,   1,   1,   5,  48,  28,   1,   0,   0,   0,\n",
       "          0,   0,   0,   0,   0,   0,   0,   0,   0,   0,   0,   0,   0,\n",
       "          0,   0,   0,   0,   0,   0,   0],\n",
       "       [105, 259,  14,  45,   1, 897,   1, 266,  29, 540, 569, 452,  17,\n",
       "          1,  22,   1, 549, 378,   1,   1,   1,   1,   1,   0,   0,   0,\n",
       "          0,   0,   0,   0,   0,   0,   0],\n",
       "       [200, 658,   2,   4, 110,  47, 639,  12,   1,   3,  73,   2,  85,\n",
       "         53,  15,   4,   0,   0,   0,   0,   0,   0,   0,   0,   0,   0,\n",
       "          0,   0,   0,   0,   0,   0,   0]])"
      ]
     },
     "execution_count": 9,
     "metadata": {},
     "output_type": "execute_result"
    }
   ],
   "source": [
    "encoded_example = encoder(example)[:3].numpy()\n",
    "encoded_example"
   ]
  },
  {
   "cell_type": "code",
   "execution_count": 10,
   "metadata": {
    "id": "XoN4pDlb9xX8"
   },
   "outputs": [
    {
     "name": "stdout",
     "output_type": "stream",
     "text": [
      "Original:  b'k give me a sec, breaking a  &lt;#&gt;  at cstore'\n",
      "Round-trip:  k give me a [UNK] [UNK] a ltgt at [UNK]                       \n",
      "\n",
      "Original:  b'well done! your 4* costa del sol holiday or \\xc2\\xa35000 await collection. call 09050090044 now toclaim. sae, tcs, pobox334, stockport, sk38xh, cost\\xc2\\xa31.50/pm, max10mins'\n",
      "Round-trip:  well done your 4 [UNK] del [UNK] holiday or £5000 await collection call [UNK] now [UNK] sae tcs [UNK] [UNK] [UNK] [UNK] [UNK]          \n",
      "\n",
      "Original:  b'nice talking to you! please dont forget my pix :) i want to see all of you...'\n",
      "Round-trip:  nice talking to you please dont forget my [UNK] i want to see all of you                 \n",
      "\n"
     ]
    }
   ],
   "source": [
    "for n in range(3):\n",
    "  print(\"Original: \", example[n].numpy())\n",
    "  print(\"Round-trip: \", \" \".join(vocab[encoded_example[n]]))\n",
    "  print()\n"
   ]
  },
  {
   "cell_type": "code",
   "execution_count": 11,
   "metadata": {
    "id": "6hHJxHMJ9xTQ"
   },
   "outputs": [],
   "source": [
    "model = tf.keras.Sequential([\n",
    "    encoder,\n",
    "    tf.keras.layers.Embedding(len(encoder.get_vocabulary()), 64, mask_zero=True),\n",
    "    tf.keras.layers.Bidirectional(tf.keras.layers.LSTM(64,  return_sequences=True)),\n",
    "    tf.keras.layers.Bidirectional(tf.keras.layers.LSTM(32)),\n",
    "    tf.keras.layers.Dense(64, activation='relu'),\n",
    "    tf.keras.layers.Dropout(0.5),\n",
    "    tf.keras.layers.Dense(1,activation='sigmoid')\n",
    "])\n"
   ]
  },
  {
   "cell_type": "code",
   "execution_count": 12,
   "metadata": {
    "id": "9nRfUrLq9xQI"
   },
   "outputs": [
    {
     "name": "stdout",
     "output_type": "stream",
     "text": [
      "[False, True, True, True, True, True, True]\n"
     ]
    }
   ],
   "source": [
    "print([layer.supports_masking for layer in model.layers])\n"
   ]
  },
  {
   "cell_type": "code",
   "execution_count": 13,
   "metadata": {
    "id": "o92AIU0M9xNA"
   },
   "outputs": [
    {
     "name": "stdout",
     "output_type": "stream",
     "text": [
      "[0.49877986]\n"
     ]
    }
   ],
   "source": [
    "sample_text = (\"how are you doing today?\")\n",
    "predictions = model.predict(np.array([sample_text]))\n",
    "print(predictions[0])\n"
   ]
  },
  {
   "cell_type": "code",
   "execution_count": 14,
   "metadata": {
    "id": "BhU41-eIJTm0"
   },
   "outputs": [],
   "source": [
    "model.compile(loss=tf.keras.losses.BinaryCrossentropy(from_logits=True),\n",
    "              optimizer=tf.keras.optimizers.Adam(1e-4),\n",
    "              metrics=['accuracy'])\n"
   ]
  },
  {
   "cell_type": "code",
   "execution_count": 15,
   "metadata": {
    "id": "ciqJyXU-9xIU"
   },
   "outputs": [
    {
     "name": "stdout",
     "output_type": "stream",
     "text": [
      "Epoch 1/10\n"
     ]
    },
    {
     "name": "stderr",
     "output_type": "stream",
     "text": [
      "/home/spooderman/.local/lib/python3.9/site-packages/tensorflow/python/keras/backend.py:5016: UserWarning: \"`binary_crossentropy` received `from_logits=True`, but the `output` argument was produced by a sigmoid or softmax activation and thus does not represent logits. Was this intended?\"\n",
      "  warnings.warn(\n"
     ]
    },
    {
     "name": "stdout",
     "output_type": "stream",
     "text": [
      "66/66 [==============================] - ETA: 0s - loss: 0.6572 - accuracy: 0.8430WARNING:tensorflow:Your input ran out of data; interrupting training. Make sure that your dataset or generator can generate at least `steps_per_epoch * epochs` batches (in this case, 30 batches). You may need to use the repeat() function when building your dataset.\n",
      "66/66 [==============================] - 28s 227ms/step - loss: 0.6572 - accuracy: 0.8430 - val_loss: 0.5882 - val_accuracy: 0.8657\n",
      "Epoch 2/10\n",
      "66/66 [==============================] - 9s 134ms/step - loss: 0.5120 - accuracy: 0.8660\n",
      "Epoch 3/10\n",
      "66/66 [==============================] - 9s 130ms/step - loss: 0.3810 - accuracy: 0.8674\n",
      "Epoch 4/10\n",
      "66/66 [==============================] - 9s 132ms/step - loss: 0.1998 - accuracy: 0.9550\n",
      "Epoch 5/10\n",
      "66/66 [==============================] - 8s 124ms/step - loss: 0.1121 - accuracy: 0.9794\n",
      "Epoch 6/10\n",
      "66/66 [==============================] - 8s 125ms/step - loss: 0.0815 - accuracy: 0.9832\n",
      "Epoch 7/10\n",
      "66/66 [==============================] - 8s 127ms/step - loss: 0.0656 - accuracy: 0.9876\n",
      "Epoch 8/10\n",
      "66/66 [==============================] - 9s 127ms/step - loss: 0.0554 - accuracy: 0.9880\n",
      "Epoch 9/10\n",
      "66/66 [==============================] - 8s 125ms/step - loss: 0.0466 - accuracy: 0.9902\n",
      "Epoch 10/10\n",
      "66/66 [==============================] - 8s 127ms/step - loss: 0.0387 - accuracy: 0.9928\n"
     ]
    }
   ],
   "source": [
    "history = model.fit(train_dataset, epochs=10,\n",
    "                    validation_data=test_dataset,\n",
    "                    validation_steps=30)\n"
   ]
  },
  {
   "cell_type": "code",
   "execution_count": 16,
   "metadata": {
    "id": "ol0PN2fi9xGw"
   },
   "outputs": [
    {
     "name": "stdout",
     "output_type": "stream",
     "text": [
      "22/22 [==============================] - 1s 38ms/step - loss: 0.0574 - accuracy: 0.9849\n",
      "Test Loss: 0.05738411098718643\n",
      "Test Accuracy: 0.9849137663841248\n"
     ]
    }
   ],
   "source": [
    "test_loss, test_acc = model.evaluate(test_dataset)\n",
    "\n",
    "print('Test Loss:', test_loss)\n",
    "print('Test Accuracy:', test_acc)\n"
   ]
  },
  {
   "cell_type": "code",
   "execution_count": 17,
   "metadata": {
    "id": "J9tD9yACG6M9"
   },
   "outputs": [
    {
     "name": "stdout",
     "output_type": "stream",
     "text": [
      "[0.0027385354, 'ham']\n"
     ]
    }
   ],
   "source": [
    "# function to predict messages based on model\n",
    "# (should return list containing prediction and label, ex. [0.008318834938108921, 'ham'])\n",
    "def predict_message(pred_text):\n",
    "  prediction = []\n",
    "  predictions = model.predict(np.array([pred_text]))[0]\n",
    "  pre = predictions[0]\n",
    "  prediction.append(pre)\n",
    "  if predictions > 0.5:\n",
    "    prediction.append(\"spam\")\n",
    "  else:\n",
    "    prediction.append(\"ham\")\n",
    "\n",
    "  return (prediction)\n",
    "\n",
    "pred_text = \"how are you doing today?\"\n",
    "\n",
    "\n",
    "prediction = predict_message(pred_text)\n",
    "print(prediction)"
   ]
  },
  {
   "cell_type": "code",
   "execution_count": 18,
   "metadata": {
    "id": "JDU50w2jK48w"
   },
   "outputs": [
    {
     "name": "stdout",
     "output_type": "stream",
     "text": [
      "[[5, 4]]\n",
      "[[5, 4], [6, 7]]\n"
     ]
    }
   ],
   "source": [
    "a = []\n",
    "#a = [5,4]\n",
    "a.append([5,4])\n",
    "print(a)\n",
    "#a = [[4,6]]\n",
    "a.append([6,7])\n",
    "print(a)"
   ]
  },
  {
   "cell_type": "code",
   "execution_count": 19,
   "metadata": {
    "id": "_LRag9H1Q2kM"
   },
   "outputs": [
    {
     "name": "stdout",
     "output_type": "stream",
     "text": [
      "how are you doing today ham\n",
      "sale today! to stop texts call 98912460324 spam\n",
      "i dont want to go. can we try it a different day? available sat ham\n",
      "our new mobile video service is live. just install on your phone to start watching. spam\n",
      "you have won £1000 cash! call to claim your prize. spam\n",
      "i'll bring it tomorrow. don't forget the milk. ham\n",
      "wow, is your arm alright. that happened to me one time too ham\n"
     ]
    }
   ],
   "source": [
    "test_messages = [\"how are you doing today\",\n",
    "                   \"sale today! to stop texts call 98912460324\",\n",
    "                   \"i dont want to go. can we try it a different day? available sat\",\n",
    "                   \"our new mobile video service is live. just install on your phone to start watching.\",\n",
    "                   \"you have won £1000 cash! call to claim your prize.\",\n",
    "                   \"i'll bring it tomorrow. don't forget the milk.\",\n",
    "                   \"wow, is your arm alright. that happened to me one time too\"\n",
    "                  ]\n",
    "\n",
    "test_answers = [\"ham\", \"spam\", \"ham\", \"spam\", \"spam\", \"ham\", \"ham\"]\n",
    "\n",
    "for msg, ans in zip(test_messages, test_answers):\n",
    "  print(msg,ans)"
   ]
  },
  {
   "cell_type": "code",
   "execution_count": 20,
   "metadata": {
    "id": "Dxotov85SjsC"
   },
   "outputs": [
    {
     "name": "stdout",
     "output_type": "stream",
     "text": [
      "You passed the challenge. Great job!\n"
     ]
    }
   ],
   "source": [
    "# Run this cell to test your function and model. Do not modify contents.\n",
    "def test_predictions():\n",
    "  test_messages = [\"how are you doing today\",\n",
    "                   \"sale today! to stop texts call 98912460324\",\n",
    "                   \"i dont want to go. can we try it a different day? available sat\",\n",
    "                   \"our new mobile video service is live. just install on your phone to start watching.\",\n",
    "                   \"you have won £1000 cash! call to claim your prize.\",\n",
    "                   \"i'll bring it tomorrow. don't forget the milk.\",\n",
    "                   \"wow, is your arm alright. that happened to me one time too\"\n",
    "                  ]\n",
    "\n",
    "  test_answers = [\"ham\", \"spam\", \"ham\", \"spam\", \"spam\", \"ham\", \"ham\"]\n",
    "  passed = True\n",
    "\n",
    "  for msg, ans in zip(test_messages, test_answers):\n",
    "    prediction = predict_message(msg)\n",
    "    if prediction[1] != ans:\n",
    "      passed = False\n",
    "\n",
    "  if passed:\n",
    "    print(\"You passed the challenge. Great job!\")\n",
    "  else:\n",
    "    print(\"You haven't passed yet. Keep trying.\")\n",
    "\n",
    "test_predictions()\n"
   ]
  }
 ],
 "metadata": {
  "accelerator": "GPU",
  "colab": {
   "collapsed_sections": [],
   "name": "fcc_sms_text_classification.ipynb",
   "private_outputs": true,
   "provenance": []
  },
  "kernelspec": {
   "display_name": "Python 3",
   "language": "python",
   "name": "python3"
  },
  "language_info": {
   "codemirror_mode": {
    "name": "ipython",
    "version": 3
   },
   "file_extension": ".py",
   "mimetype": "text/x-python",
   "name": "python",
   "nbconvert_exporter": "python",
   "pygments_lexer": "ipython3",
   "version": "3.9.2"
  }
 },
 "nbformat": 4,
 "nbformat_minor": 4
}
