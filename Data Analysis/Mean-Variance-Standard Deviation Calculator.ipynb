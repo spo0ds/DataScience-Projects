{
 "cells": [
  {
   "cell_type": "code",
   "execution_count": 1,
   "metadata": {},
   "outputs": [
    {
     "data": {
      "text/plain": [
       "{'mean': [[3.0, 4.0, 5.0], [1.0, 4.0, 7.0], 4.0],\n",
       " 'variance': [[6.0, 6.0, 6.0],\n",
       "  [0.6666666666666666, 0.6666666666666666, 0.6666666666666666],\n",
       "  6.666666666666667],\n",
       " 'standard deviation': [[2.449489742783178,\n",
       "   2.449489742783178,\n",
       "   2.449489742783178],\n",
       "  [0.816496580927726, 0.816496580927726, 0.816496580927726],\n",
       "  2.581988897471611],\n",
       " 'max': [[6, 7, 8], [2, 5, 8], 8],\n",
       " 'min': [[0, 1, 2], [0, 3, 6], 0],\n",
       " 'sum': [[9, 12, 15], [3, 12, 21], 36]}"
      ]
     },
     "execution_count": 1,
     "metadata": {},
     "output_type": "execute_result"
    }
   ],
   "source": [
    "{\n",
    "  'mean': [[3.0, 4.0, 5.0], [1.0, 4.0, 7.0], 4.0], \n",
    "  'variance': [[6.0, 6.0, 6.0], [0.6666666666666666, 0.6666666666666666, 0.6666666666666666], 6.666666666666667], \n",
    "  'standard deviation': [[2.449489742783178, 2.449489742783178, 2.449489742783178], [0.816496580927726, 0.816496580927726, 0.816496580927726], 2.581988897471611],\n",
    "  'max': [[6, 7, 8], [2, 5, 8], 8],\n",
    "  'min': [[0, 1, 2], [0, 3, 6], 0],\n",
    "  'sum': [[9, 12, 15], [3, 12, 21], 36]\n",
    "}"
   ]
  },
  {
   "cell_type": "code",
   "execution_count": 2,
   "metadata": {},
   "outputs": [
    {
     "name": "stdout",
     "output_type": "stream",
     "text": [
      "45\n"
     ]
    }
   ],
   "source": [
    "import numpy as np\n",
    "\n",
    "\n",
    "def calculate(list):\n",
    "    a = np.array(list)\n",
    "    calculations = np.sum(a)\n",
    "\n",
    "    return calculations\n",
    "\n",
    "\n",
    "list = [1, 2, 3, 4, 5, 6, 7, 8, 9]\n",
    "print(calculate(list))\n"
   ]
  },
  {
   "cell_type": "code",
   "execution_count": 3,
   "metadata": {},
   "outputs": [
    {
     "name": "stdout",
     "output_type": "stream",
     "text": [
      "{'mean': [array([4., 5., 6.]), array([2., 5., 8.]), 5.0], 'variance': [array([6., 6., 6.]), array([0.66666667, 0.66666667, 0.66666667]), 6.666666666666667], 'standard deviation': [array([2.44948974, 2.44948974, 2.44948974]), array([0.81649658, 0.81649658, 0.81649658]), 2.581988897471611], 'max': [array([7, 8, 9]), array([3, 6, 9]), 9], 'min': [array([1, 2, 3]), array([1, 4, 7]), 1], 'sum': [array([12, 15, 18]), array([ 6, 15, 24]), 45]}\n"
     ]
    }
   ],
   "source": [
    "import numpy as np\n",
    "\n",
    "\n",
    "def calculate(list):\n",
    "    a = np.array(list).reshape(3,3)\n",
    "    calculations = {'mean': [np.mean(a,axis = 0), np.mean(a,axis = 1), np.mean(a)],\n",
    "                    'variance': [np.var(a,axis = 0), np.var(a,axis = 1), np.var(a)],\n",
    "                    'standard deviation': [np.std(a,axis = 0), np.std(a,axis = 1), np.std(a)],\n",
    "                    'max': [np.max(a,axis = 0), np.max(a,axis = 1), np.max(a)],\n",
    "                    'min': [np.min(a,axis = 0), np.min(a,axis = 1), np.min(a)],\n",
    "                    'sum': [np.sum(a,axis = 0), np.sum(a,axis = 1), np.sum(a)]\n",
    "                   }\n",
    "\n",
    "    return calculations\n",
    "\n",
    "\n",
    "list = [1, 2, 3, 4, 5, 6, 7, 8, 9]\n",
    "print(calculate(list))"
   ]
  },
  {
   "cell_type": "code",
   "execution_count": 4,
   "metadata": {},
   "outputs": [
    {
     "name": "stdout",
     "output_type": "stream",
     "text": [
      "mean : [array([4., 5., 6.]), array([2., 5., 8.]), 5.0]\n",
      "variance : [array([6., 6., 6.]), array([0.66666667, 0.66666667, 0.66666667]), 6.666666666666667]\n",
      "standard deviation : [array([2.44948974, 2.44948974, 2.44948974]), array([0.81649658, 0.81649658, 0.81649658]), 2.581988897471611]\n",
      "max : [array([7, 8, 9]), array([3, 6, 9]), 9]\n",
      "min : [array([1, 2, 3]), array([1, 4, 7]), 1]\n",
      "sum : [array([12, 15, 18]), array([ 6, 15, 24]), 45]\n"
     ]
    }
   ],
   "source": [
    "import numpy as np\n",
    "\n",
    "\n",
    "def calculate(list):\n",
    "    a = np.array(list).reshape(3,3)\n",
    "    calculations = {'mean': [np.mean(a,axis = 0), np.mean(a,axis = 1), np.mean(a)],\n",
    "                    'variance': [np.var(a,axis = 0), np.var(a,axis = 1), np.var(a)],\n",
    "                    'standard deviation': [np.std(a,axis = 0), np.std(a,axis = 1), np.std(a)],\n",
    "                    'max': [np.max(a,axis = 0), np.max(a,axis = 1), np.max(a)],\n",
    "                    'min': [np.min(a,axis = 0), np.min(a,axis = 1), np.min(a)],\n",
    "                    'sum': [np.sum(a,axis = 0), np.sum(a,axis = 1), np.sum(a)]\n",
    "        \n",
    "                   }\n",
    "\n",
    "    return calculations\n",
    "\n",
    "\n",
    "list = [1, 2, 3, 4, 5, 6, 7, 8, 9]\n",
    "for key,value in calculate(list).items():\n",
    "    print(key,':',value)"
   ]
  },
  {
   "cell_type": "code",
   "execution_count": 5,
   "metadata": {},
   "outputs": [
    {
     "name": "stdout",
     "output_type": "stream",
     "text": [
      "{'mean': [array([3., 4., 5.]), array([1., 4., 7.]), 4.0],\n",
      " 'variance': [array([6., 6., 6.]),\n",
      "              array([0.66666667, 0.66666667, 0.66666667]),\n",
      "              6.666666666666667],\n",
      " 'standard deviation': [array([2.44948974, 2.44948974, 2.44948974]),\n",
      "                        array([0.81649658, 0.81649658, 0.81649658]),\n",
      "                        2.581988897471611],\n",
      " 'max': [array([6, 7, 8]), array([2, 5, 8]), 8],\n",
      " 'min': [array([0, 1, 2]), array([0, 3, 6]), 0],\n",
      " 'sum': [array([ 9, 12, 15]), array([ 3, 12, 21]), 36]}\n"
     ]
    }
   ],
   "source": [
    "import numpy as np\n",
    "import pprint\n",
    "\n",
    "\n",
    "def calculate(list):\n",
    "    a = np.array(list).reshape(3,3)\n",
    "    calculations = {'mean': [np.mean(a,axis = 0), np.mean(a,axis = 1), np.mean(a)],\n",
    "                    'variance': [np.var(a,axis = 0), np.var(a,axis = 1), np.var(a)],\n",
    "                    'standard deviation': [np.std(a,axis = 0), np.std(a,axis = 1), np.std(a)],\n",
    "                    'max': [np.max(a,axis = 0), np.max(a,axis = 1), np.max(a)],\n",
    "                    'min': [np.min(a,axis = 0), np.min(a,axis = 1), np.min(a)],\n",
    "                    'sum': [np.sum(a,axis = 0), np.sum(a,axis = 1), np.sum(a)]\n",
    "                   }\n",
    "\n",
    "    return calculations\n",
    "\n",
    "\n",
    "list = [0,1,2,3,4,5,6,7,8] \n",
    "if len(list) == 9:\n",
    "    pprint.pprint(calculate(list),sort_dicts = False)\n",
    "else:\n",
    "    print('List must contain nine numbers.')"
   ]
  },
  {
   "cell_type": "code",
   "execution_count": 6,
   "metadata": {},
   "outputs": [
    {
     "name": "stdout",
     "output_type": "stream",
     "text": [
      "{'mean': [array([3., 4., 5.]), array([1., 4., 7.]), 4.0],\n",
      " 'variance': [array([6., 6., 6.]),\n",
      "              array([0.66666667, 0.66666667, 0.66666667]),\n",
      "              6.666666666666667],\n",
      " 'standard deviation': [array([2.44948974, 2.44948974, 2.44948974]),\n",
      "                        array([0.81649658, 0.81649658, 0.81649658]),\n",
      "                        2.581988897471611],\n",
      " 'max': [array([6, 7, 8]), array([2, 5, 8]), 8],\n",
      " 'min': [array([0, 1, 2]), array([0, 3, 6]), 0],\n",
      " 'sum': [array([ 9, 12, 15]), array([ 3, 12, 21]), 36]}\n"
     ]
    }
   ],
   "source": [
    "import numpy as np\n",
    "import pprint\n",
    "\n",
    "\n",
    "def calculate(list):\n",
    "    if len(list) != 9:\n",
    "        raise ValueError ('List must contain nine numbers.')\n",
    "    a = np.array(list).reshape(3,3)\n",
    "\n",
    "    return {'mean': [np.mean(a,axis = 0), np.mean(a,axis = 1), np.mean(a)],\n",
    "                    'variance': [np.var(a,axis = 0), np.var(a,axis = 1), np.var(a)],\n",
    "                    'standard deviation': [np.std(a,axis = 0), np.std(a,axis = 1), np.std(a)],\n",
    "                    'max': [np.max(a,axis = 0), np.max(a,axis = 1), np.max(a)],\n",
    "                    'min': [np.min(a,axis = 0), np.min(a,axis = 1), np.min(a)],\n",
    "                    'sum': [np.sum(a,axis = 0), np.sum(a,axis = 1), np.sum(a)]\n",
    "                   }\n",
    "\n",
    "\n",
    "list = [0,1,2,3,4,5,6,7,8] \n",
    "pprint.pprint(calculate(list),sort_dicts = False)"
   ]
  },
  {
   "cell_type": "code",
   "execution_count": 7,
   "metadata": {},
   "outputs": [
    {
     "name": "stdout",
     "output_type": "stream",
     "text": [
      "{'mean': [[3.0, 4.0, 5.0], [1.0, 4.0, 7.0], 4.0],\n",
      " 'variance': [[6.0, 6.0, 6.0],\n",
      "              [0.6666666666666666, 0.6666666666666666, 0.6666666666666666],\n",
      "              6.666666666666667],\n",
      " 'standard deviation': [[2.449489742783178,\n",
      "                         2.449489742783178,\n",
      "                         2.449489742783178],\n",
      "                        [0.816496580927726,\n",
      "                         0.816496580927726,\n",
      "                         0.816496580927726],\n",
      "                        2.581988897471611],\n",
      " 'max': [[6, 7, 8], [2, 5, 8], 8],\n",
      " 'min': [[0, 1, 2], [0, 3, 6], 0],\n",
      " 'sum': [[9, 12, 15], [3, 12, 21], 36]}\n"
     ]
    }
   ],
   "source": [
    "import numpy as np\n",
    "import pprint\n",
    "\n",
    "\n",
    "def calculate(list):\n",
    "    if len(list) != 9:\n",
    "        raise ValueError ('List must contain nine numbers.')\n",
    "    a = np.array(list).reshape(3,3)\n",
    "    meanrows = []\n",
    "    ls = [a.mean(axis=0)]\n",
    "    for i in range(3):\n",
    "        meanrows.append(ls[0][i])\n",
    "        \n",
    "    meancols = []\n",
    "    ls = [a.mean(axis=1)]\n",
    "    for i in range(3):\n",
    "        meancols.append(ls[0][i])\n",
    "        \n",
    "    varrows = []\n",
    "    ls = [a.var(axis=0)]\n",
    "    for i in range(3):\n",
    "        varrows.append(ls[0][i])\n",
    "        \n",
    "    varcols = []\n",
    "    ls = [a.var(axis=1)]\n",
    "    for i in range(3):\n",
    "        varcols.append(ls[0][i])\n",
    "        \n",
    "    stdrows = []\n",
    "    ls = [a.std(axis=0)]\n",
    "    for i in range(3):\n",
    "        stdrows.append(ls[0][i])\n",
    "        \n",
    "    stdcols = []\n",
    "    ls = [a.std(axis=1)]\n",
    "    for i in range(3):\n",
    "        stdcols.append(ls[0][i])\n",
    "        \n",
    "    maxrows = []\n",
    "    ls = [a.max(axis=0)]\n",
    "    for i in range(3):\n",
    "        maxrows.append(ls[0][i])\n",
    "        \n",
    "    maxcols = []\n",
    "    ls = [a.max(axis=1)]\n",
    "    for i in range(3):\n",
    "        maxcols.append(ls[0][i])\n",
    "        \n",
    "    minrows = []\n",
    "    ls = [a.min(axis=0)]\n",
    "    for i in range(3):\n",
    "        minrows.append(ls[0][i])\n",
    "        \n",
    "    mincols = []\n",
    "    ls = [a.min(axis=1)]\n",
    "    for i in range(3):\n",
    "        mincols.append(ls[0][i])\n",
    "        \n",
    "    sumrows = []\n",
    "    ls = [a.sum(axis=0)]\n",
    "    for i in range(3):\n",
    "        sumrows.append(ls[0][i])\n",
    "        \n",
    "    sumcols = []\n",
    "    ls = [a.sum(axis=1)]\n",
    "    for i in range(3):\n",
    "        sumcols.append(ls[0][i])\n",
    "\n",
    "    return {'mean': [meanrows, meancols, np.mean(a)],\n",
    "                    'variance': [varrows, varcols, np.var(a)],\n",
    "                    'standard deviation': [stdrows, stdcols, np.std(a)],\n",
    "                    'max': [maxrows, maxcols, np.max(a)],\n",
    "                    'min': [minrows, mincols, np.min(a)],\n",
    "                    'sum': [sumrows, sumcols, np.sum(a)]\n",
    "                   }\n",
    "\n",
    "\n",
    "list = [0,1,2,3,4,5,6,7,8] \n",
    "pprint.pprint(calculate(list),sort_dicts = False)"
   ]
  }
 ],
 "metadata": {
  "kernelspec": {
   "display_name": "Python 3",
   "language": "python",
   "name": "python3"
  },
  "language_info": {
   "codemirror_mode": {
    "name": "ipython",
    "version": 3
   },
   "file_extension": ".py",
   "mimetype": "text/x-python",
   "name": "python",
   "nbconvert_exporter": "python",
   "pygments_lexer": "ipython3",
   "version": "3.9.2"
  }
 },
 "nbformat": 4,
 "nbformat_minor": 4
}
