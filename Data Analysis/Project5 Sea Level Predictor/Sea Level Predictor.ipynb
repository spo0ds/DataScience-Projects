{
 "cells": [
  {
   "cell_type": "code",
   "execution_count": 1,
   "id": "5c35a939-6d65-4d8b-9a55-ad3f5da16d08",
   "metadata": {},
   "outputs": [],
   "source": [
    "import pandas as pd\n",
    "import matplotlib.pyplot as plt\n",
    "from scipy.stats import linregress"
   ]
  },
  {
   "cell_type": "code",
   "execution_count": 2,
   "id": "f8745838-ee55-4d32-80a5-107a161fee74",
   "metadata": {},
   "outputs": [
    {
     "data": {
      "text/html": [
       "<div>\n",
       "<style scoped>\n",
       "    .dataframe tbody tr th:only-of-type {\n",
       "        vertical-align: middle;\n",
       "    }\n",
       "\n",
       "    .dataframe tbody tr th {\n",
       "        vertical-align: top;\n",
       "    }\n",
       "\n",
       "    .dataframe thead th {\n",
       "        text-align: right;\n",
       "    }\n",
       "</style>\n",
       "<table border=\"1\" class=\"dataframe\">\n",
       "  <thead>\n",
       "    <tr style=\"text-align: right;\">\n",
       "      <th></th>\n",
       "      <th>CSIRO Adjusted Sea Level</th>\n",
       "      <th>Lower Error Bound</th>\n",
       "      <th>Upper Error Bound</th>\n",
       "      <th>NOAA Adjusted Sea Level</th>\n",
       "    </tr>\n",
       "    <tr>\n",
       "      <th>Year</th>\n",
       "      <th></th>\n",
       "      <th></th>\n",
       "      <th></th>\n",
       "      <th></th>\n",
       "    </tr>\n",
       "  </thead>\n",
       "  <tbody>\n",
       "    <tr>\n",
       "      <th>1880</th>\n",
       "      <td>0.000000</td>\n",
       "      <td>-0.952756</td>\n",
       "      <td>0.952756</td>\n",
       "      <td>NaN</td>\n",
       "    </tr>\n",
       "    <tr>\n",
       "      <th>1881</th>\n",
       "      <td>0.220472</td>\n",
       "      <td>-0.732283</td>\n",
       "      <td>1.173228</td>\n",
       "      <td>NaN</td>\n",
       "    </tr>\n",
       "    <tr>\n",
       "      <th>1882</th>\n",
       "      <td>-0.440945</td>\n",
       "      <td>-1.346457</td>\n",
       "      <td>0.464567</td>\n",
       "      <td>NaN</td>\n",
       "    </tr>\n",
       "    <tr>\n",
       "      <th>1883</th>\n",
       "      <td>-0.232283</td>\n",
       "      <td>-1.129921</td>\n",
       "      <td>0.665354</td>\n",
       "      <td>NaN</td>\n",
       "    </tr>\n",
       "    <tr>\n",
       "      <th>1884</th>\n",
       "      <td>0.590551</td>\n",
       "      <td>-0.283465</td>\n",
       "      <td>1.464567</td>\n",
       "      <td>NaN</td>\n",
       "    </tr>\n",
       "  </tbody>\n",
       "</table>\n",
       "</div>"
      ],
      "text/plain": [
       "      CSIRO Adjusted Sea Level  Lower Error Bound  Upper Error Bound  \\\n",
       "Year                                                                   \n",
       "1880                  0.000000          -0.952756           0.952756   \n",
       "1881                  0.220472          -0.732283           1.173228   \n",
       "1882                 -0.440945          -1.346457           0.464567   \n",
       "1883                 -0.232283          -1.129921           0.665354   \n",
       "1884                  0.590551          -0.283465           1.464567   \n",
       "\n",
       "      NOAA Adjusted Sea Level  \n",
       "Year                           \n",
       "1880                      NaN  \n",
       "1881                      NaN  \n",
       "1882                      NaN  \n",
       "1883                      NaN  \n",
       "1884                      NaN  "
      ]
     },
     "execution_count": 2,
     "metadata": {},
     "output_type": "execute_result"
    }
   ],
   "source": [
    "df = pd.read_csv('epa-sea-level.csv',index_col=0)\n",
    "df.head()"
   ]
  },
  {
   "cell_type": "code",
   "execution_count": 3,
   "id": "45b84396-b96a-4a0c-9f37-388c48538f3c",
   "metadata": {},
   "outputs": [
    {
     "data": {
      "text/html": [
       "<div>\n",
       "<style scoped>\n",
       "    .dataframe tbody tr th:only-of-type {\n",
       "        vertical-align: middle;\n",
       "    }\n",
       "\n",
       "    .dataframe tbody tr th {\n",
       "        vertical-align: top;\n",
       "    }\n",
       "\n",
       "    .dataframe thead th {\n",
       "        text-align: right;\n",
       "    }\n",
       "</style>\n",
       "<table border=\"1\" class=\"dataframe\">\n",
       "  <thead>\n",
       "    <tr style=\"text-align: right;\">\n",
       "      <th></th>\n",
       "      <th>CSIRO Adjusted Sea Level</th>\n",
       "      <th>Lower Error Bound</th>\n",
       "      <th>Upper Error Bound</th>\n",
       "      <th>NOAA Adjusted Sea Level</th>\n",
       "    </tr>\n",
       "    <tr>\n",
       "      <th>Year</th>\n",
       "      <th></th>\n",
       "      <th></th>\n",
       "      <th></th>\n",
       "      <th></th>\n",
       "    </tr>\n",
       "  </thead>\n",
       "  <tbody>\n",
       "    <tr>\n",
       "      <th>2009</th>\n",
       "      <td>8.586614</td>\n",
       "      <td>8.311024</td>\n",
       "      <td>8.862205</td>\n",
       "      <td>8.046354</td>\n",
       "    </tr>\n",
       "    <tr>\n",
       "      <th>2010</th>\n",
       "      <td>8.901575</td>\n",
       "      <td>8.618110</td>\n",
       "      <td>9.185039</td>\n",
       "      <td>8.122973</td>\n",
       "    </tr>\n",
       "    <tr>\n",
       "      <th>2011</th>\n",
       "      <td>8.964567</td>\n",
       "      <td>8.661417</td>\n",
       "      <td>9.267717</td>\n",
       "      <td>8.053065</td>\n",
       "    </tr>\n",
       "    <tr>\n",
       "      <th>2012</th>\n",
       "      <td>9.326772</td>\n",
       "      <td>8.992126</td>\n",
       "      <td>9.661417</td>\n",
       "      <td>8.457058</td>\n",
       "    </tr>\n",
       "    <tr>\n",
       "      <th>2013</th>\n",
       "      <td>8.980315</td>\n",
       "      <td>8.622047</td>\n",
       "      <td>9.338583</td>\n",
       "      <td>8.546648</td>\n",
       "    </tr>\n",
       "  </tbody>\n",
       "</table>\n",
       "</div>"
      ],
      "text/plain": [
       "      CSIRO Adjusted Sea Level  Lower Error Bound  Upper Error Bound  \\\n",
       "Year                                                                   \n",
       "2009                  8.586614           8.311024           8.862205   \n",
       "2010                  8.901575           8.618110           9.185039   \n",
       "2011                  8.964567           8.661417           9.267717   \n",
       "2012                  9.326772           8.992126           9.661417   \n",
       "2013                  8.980315           8.622047           9.338583   \n",
       "\n",
       "      NOAA Adjusted Sea Level  \n",
       "Year                           \n",
       "2009                 8.046354  \n",
       "2010                 8.122973  \n",
       "2011                 8.053065  \n",
       "2012                 8.457058  \n",
       "2013                 8.546648  "
      ]
     },
     "execution_count": 3,
     "metadata": {},
     "output_type": "execute_result"
    }
   ],
   "source": [
    "df.tail()"
   ]
  },
  {
   "cell_type": "markdown",
   "id": "80af14e3-bc5b-4ef8-ad78-687bd0fb5778",
   "metadata": {},
   "source": [
    "#### Use matplotlib to create a scatter plot using the \"Year\" column as the x-axis and the \"CSIRO Adjusted Sea Level\" column as the y-axix."
   ]
  },
  {
   "cell_type": "code",
   "execution_count": 4,
   "id": "5ad49ee2-16e5-4ac8-9076-4e6505040e85",
   "metadata": {},
   "outputs": [
    {
     "data": {
      "text/plain": [
       "Text(0, 0.5, 'CSIRO Adjusted Sea Level')"
      ]
     },
     "execution_count": 4,
     "metadata": {},
     "output_type": "execute_result"
    },
    {
     "data": {
      "image/png": "[encoded data removed]",
      "text/plain": [
       "<Figure size 432x288 with 1 Axes>"
      ]
     },
     "metadata": {
      "needs_background": "light"
     },
     "output_type": "display_data"
    }
   ],
   "source": [
    "plt.scatter(df.index,df['CSIRO Adjusted Sea Level'])\n",
    "plt.xlabel('Year')\n",
    "plt.ylabel('CSIRO Adjusted Sea Level')"
   ]
  },
  {
   "cell_type": "markdown",
   "id": "a08f52b7-f047-4e06-8c39-df8aaa1e0d9d",
   "metadata": {},
   "source": [
    "#### Use the linregress function from scipy.stats to get the slope and y-intercept of the line of best fit. Plot the line of best fit over the top of the scatter plot. Make the line go through the year 2050 to predict the sea level rise in 2050."
   ]
  },
  {
   "cell_type": "code",
   "execution_count": 5,
   "id": "43215cb0-48e2-4ae8-af45-4574b58ed864",
   "metadata": {},
   "outputs": [],
   "source": [
    "y = df['CSIRO Adjusted Sea Level']\n",
    "x = df.index\n",
    "(slope, intercept, rvalue, pvalue, stderr) = linregress(x,y)"
   ]
  },
  {
   "cell_type": "code",
   "execution_count": 6,
   "id": "25246bbc-85dc-4581-91e8-90f43cc36c0c",
   "metadata": {},
   "outputs": [
    {
     "data": {
      "text/plain": [
       "<matplotlib.legend.Legend at 0x7f350a1ee5e0>"
      ]
     },
     "execution_count": 6,
     "metadata": {},
     "output_type": "execute_result"
    },
    {
     "data": {
      "image/png": "[encoded data removed]",
      "text/plain": [
       "<Figure size 432x288 with 1 Axes>"
      ]
     },
     "metadata": {
      "needs_background": "light"
     },
     "output_type": "display_data"
    }
   ],
   "source": [
    "y = df['CSIRO Adjusted Sea Level']\n",
    "x = df.index\n",
    "(slope, intercept, rvalue, pvalue, stderr) = linregress(x,y)\n",
    "\n",
    "#plt.xlim([1880,2050])\n",
    "plt.scatter(df.index,df['CSIRO Adjusted Sea Level'],label='original data')\n",
    "plt.xlabel('Year')\n",
    "plt.ylabel('CSIRO Adjusted Sea Level')\n",
    "\n",
    "x2 = list(range(1880, 2050))\n",
    "y2 = []\n",
    "for year in x2:\n",
    "    y2.append(intercept + slope*year)\n",
    "\n",
    "\n",
    "#y_pred = intercept + slope*x\n",
    "plt.plot(x2,y2, color=\"green\", label=\"Fitted line\",linewidth=3)\n",
    "plt.legend()"
   ]
  },
  {
   "cell_type": "code",
   "execution_count": 7,
   "id": "c8f2c40b-4e0c-4cd1-9ae3-b7bd1858139e",
   "metadata": {},
   "outputs": [
    {
     "data": {
      "text/plain": [
       "<matplotlib.legend.Legend at 0x7f350a10cd30>"
      ]
     },
     "execution_count": 7,
     "metadata": {},
     "output_type": "execute_result"
    },
    {
     "data": {
      "image/png": "[encoded data removed]",
      "text/plain": [
       "<Figure size 432x288 with 1 Axes>"
      ]
     },
     "metadata": {
      "needs_background": "light"
     },
     "output_type": "display_data"
    }
   ],
   "source": [
    "y = df['CSIRO Adjusted Sea Level']\n",
    "x = df.index\n",
    "(slope, intercept, rvalue, pvalue, stderr) = linregress(x,y)\n",
    "\n",
    "#plt.xlim([1880,2050])\n",
    "plt.scatter(df.index,df['CSIRO Adjusted Sea Level'],label='original data')\n",
    "plt.xlabel('Year')\n",
    "plt.ylabel('CSIRO Adjusted Sea Level')\n",
    "\n",
    "x2 = list(range(1880, 2050))\n",
    "y2 = []\n",
    "for year in x2:\n",
    "    y2.append(intercept + slope*year)\n",
    "\n",
    "\n",
    "#y_pred = intercept + slope*x\n",
    "plt.plot(x2,y2, color=\"green\", label=\"Fitted line\",linewidth=3)\n",
    "plt.legend()"
   ]
  },
  {
   "cell_type": "markdown",
   "id": "ab2f52a7-c2c4-4cbe-9057-c76b5b29a72a",
   "metadata": {},
   "source": [
    "#### Plot a new line of best fit just using the data from year 2000 through the most recent year in the dataset. Make the line also go through the year 2050 to predict the sea level rise in 2050 if the rate of rise continues as it has since the year 2000."
   ]
  },
  {
   "cell_type": "code",
   "execution_count": 8,
   "id": "5d598032-71d0-45b1-89b8-036149fbde22",
   "metadata": {},
   "outputs": [
    {
     "data": {
      "text/html": [
       "<div>\n",
       "<style scoped>\n",
       "    .dataframe tbody tr th:only-of-type {\n",
       "        vertical-align: middle;\n",
       "    }\n",
       "\n",
       "    .dataframe tbody tr th {\n",
       "        vertical-align: top;\n",
       "    }\n",
       "\n",
       "    .dataframe thead th {\n",
       "        text-align: right;\n",
       "    }\n",
       "</style>\n",
       "<table border=\"1\" class=\"dataframe\">\n",
       "  <thead>\n",
       "    <tr style=\"text-align: right;\">\n",
       "      <th></th>\n",
       "      <th>Year</th>\n",
       "      <th>CSIRO Adjusted Sea Level</th>\n",
       "      <th>Lower Error Bound</th>\n",
       "      <th>Upper Error Bound</th>\n",
       "      <th>NOAA Adjusted Sea Level</th>\n",
       "    </tr>\n",
       "  </thead>\n",
       "  <tbody>\n",
       "    <tr>\n",
       "      <th>0</th>\n",
       "      <td>1880</td>\n",
       "      <td>0.000000</td>\n",
       "      <td>-0.952756</td>\n",
       "      <td>0.952756</td>\n",
       "      <td>NaN</td>\n",
       "    </tr>\n",
       "    <tr>\n",
       "      <th>1</th>\n",
       "      <td>1881</td>\n",
       "      <td>0.220472</td>\n",
       "      <td>-0.732283</td>\n",
       "      <td>1.173228</td>\n",
       "      <td>NaN</td>\n",
       "    </tr>\n",
       "    <tr>\n",
       "      <th>2</th>\n",
       "      <td>1882</td>\n",
       "      <td>-0.440945</td>\n",
       "      <td>-1.346457</td>\n",
       "      <td>0.464567</td>\n",
       "      <td>NaN</td>\n",
       "    </tr>\n",
       "    <tr>\n",
       "      <th>3</th>\n",
       "      <td>1883</td>\n",
       "      <td>-0.232283</td>\n",
       "      <td>-1.129921</td>\n",
       "      <td>0.665354</td>\n",
       "      <td>NaN</td>\n",
       "    </tr>\n",
       "    <tr>\n",
       "      <th>4</th>\n",
       "      <td>1884</td>\n",
       "      <td>0.590551</td>\n",
       "      <td>-0.283465</td>\n",
       "      <td>1.464567</td>\n",
       "      <td>NaN</td>\n",
       "    </tr>\n",
       "  </tbody>\n",
       "</table>\n",
       "</div>"
      ],
      "text/plain": [
       "   Year  CSIRO Adjusted Sea Level  Lower Error Bound  Upper Error Bound  \\\n",
       "0  1880                  0.000000          -0.952756           0.952756   \n",
       "1  1881                  0.220472          -0.732283           1.173228   \n",
       "2  1882                 -0.440945          -1.346457           0.464567   \n",
       "3  1883                 -0.232283          -1.129921           0.665354   \n",
       "4  1884                  0.590551          -0.283465           1.464567   \n",
       "\n",
       "   NOAA Adjusted Sea Level  \n",
       "0                      NaN  \n",
       "1                      NaN  \n",
       "2                      NaN  \n",
       "3                      NaN  \n",
       "4                      NaN  "
      ]
     },
     "execution_count": 8,
     "metadata": {},
     "output_type": "execute_result"
    }
   ],
   "source": [
    "df_sec = df.copy()\n",
    "df_sec.reset_index(inplace = True)\n",
    "df_sec.head()"
   ]
  },
  {
   "cell_type": "code",
   "execution_count": 9,
   "id": "dabf4822-0d9f-453a-a28f-86ddbf6704d0",
   "metadata": {},
   "outputs": [
    {
     "data": {
      "text/html": [
       "<div>\n",
       "<style scoped>\n",
       "    .dataframe tbody tr th:only-of-type {\n",
       "        vertical-align: middle;\n",
       "    }\n",
       "\n",
       "    .dataframe tbody tr th {\n",
       "        vertical-align: top;\n",
       "    }\n",
       "\n",
       "    .dataframe thead th {\n",
       "        text-align: right;\n",
       "    }\n",
       "</style>\n",
       "<table border=\"1\" class=\"dataframe\">\n",
       "  <thead>\n",
       "    <tr style=\"text-align: right;\">\n",
       "      <th></th>\n",
       "      <th>CSIRO Adjusted Sea Level</th>\n",
       "      <th>Lower Error Bound</th>\n",
       "      <th>Upper Error Bound</th>\n",
       "      <th>NOAA Adjusted Sea Level</th>\n",
       "    </tr>\n",
       "    <tr>\n",
       "      <th>Year</th>\n",
       "      <th></th>\n",
       "      <th></th>\n",
       "      <th></th>\n",
       "      <th></th>\n",
       "    </tr>\n",
       "  </thead>\n",
       "  <tbody>\n",
       "    <tr>\n",
       "      <th>2000</th>\n",
       "      <td>7.062992</td>\n",
       "      <td>6.791339</td>\n",
       "      <td>7.334646</td>\n",
       "      <td>6.920582</td>\n",
       "    </tr>\n",
       "    <tr>\n",
       "      <th>2001</th>\n",
       "      <td>7.287402</td>\n",
       "      <td>7.019685</td>\n",
       "      <td>7.555118</td>\n",
       "      <td>7.087460</td>\n",
       "    </tr>\n",
       "    <tr>\n",
       "      <th>2002</th>\n",
       "      <td>7.381890</td>\n",
       "      <td>7.110236</td>\n",
       "      <td>7.653543</td>\n",
       "      <td>7.319698</td>\n",
       "    </tr>\n",
       "    <tr>\n",
       "      <th>2003</th>\n",
       "      <td>7.759843</td>\n",
       "      <td>7.484252</td>\n",
       "      <td>8.035433</td>\n",
       "      <td>7.488353</td>\n",
       "    </tr>\n",
       "    <tr>\n",
       "      <th>2004</th>\n",
       "      <td>7.740157</td>\n",
       "      <td>7.464567</td>\n",
       "      <td>8.015748</td>\n",
       "      <td>7.507933</td>\n",
       "    </tr>\n",
       "  </tbody>\n",
       "</table>\n",
       "</div>"
      ],
      "text/plain": [
       "      CSIRO Adjusted Sea Level  Lower Error Bound  Upper Error Bound  \\\n",
       "Year                                                                   \n",
       "2000                  7.062992           6.791339           7.334646   \n",
       "2001                  7.287402           7.019685           7.555118   \n",
       "2002                  7.381890           7.110236           7.653543   \n",
       "2003                  7.759843           7.484252           8.035433   \n",
       "2004                  7.740157           7.464567           8.015748   \n",
       "\n",
       "      NOAA Adjusted Sea Level  \n",
       "Year                           \n",
       "2000                 6.920582  \n",
       "2001                 7.087460  \n",
       "2002                 7.319698  \n",
       "2003                 7.488353  \n",
       "2004                 7.507933  "
      ]
     },
     "execution_count": 9,
     "metadata": {},
     "output_type": "execute_result"
    }
   ],
   "source": [
    "df_sec=df_sec[df_sec['Year'] >= 2000 ]\n",
    "df_sec=df_sec.set_index(['Year'])\n",
    "df_sec.head()"
   ]
  },
  {
   "cell_type": "code",
   "execution_count": 10,
   "id": "70016fd5-933c-4833-aee6-c01c2a4247a5",
   "metadata": {},
   "outputs": [
    {
     "data": {
      "text/plain": [
       "<matplotlib.legend.Legend at 0x7f350a01bf70>"
      ]
     },
     "execution_count": 10,
     "metadata": {},
     "output_type": "execute_result"
    },
    {
     "data": {
      "image/png": "[encoded data removed]",
      "text/plain": [
       "<Figure size 432x288 with 1 Axes>"
      ]
     },
     "metadata": {
      "needs_background": "light"
     },
     "output_type": "display_data"
    }
   ],
   "source": [
    "y = df_sec['CSIRO Adjusted Sea Level']\n",
    "x = df_sec.index\n",
    "(slope, intercept, rvalue, pvalue, stderr) = linregress(x,y)\n",
    "\n",
    "#plt.xlim([1880,2050])\n",
    "plt.scatter(df_sec.index,df_sec['CSIRO Adjusted Sea Level'],label='original data')\n",
    "plt.xlabel('Year')\n",
    "plt.ylabel('Sea Level (inches)')\n",
    "plt.title('Rise in Sea Level')\n",
    "\n",
    "x2 = list(range(2000, 2050))\n",
    "y2 = []\n",
    "for year in x2:\n",
    "    y2.append(intercept + slope*year)\n",
    "\n",
    "\n",
    "#y_pred = intercept + slope*x\n",
    "plt.plot(x2,y2, color=\"green\", label=\"Fitted line\",linewidth=3)\n",
    "plt.legend()"
   ]
  },
  {
   "cell_type": "code",
   "execution_count": null,
   "id": "252ec17a-3bbe-49d2-a590-1c7070c42786",
   "metadata": {},
   "outputs": [],
   "source": []
  },
  {
   "cell_type": "code",
   "execution_count": null,
   "id": "fd695792-fc05-49ea-b45e-d705cbe9aa0d",
   "metadata": {},
   "outputs": [],
   "source": []
  },
  {
   "cell_type": "code",
   "execution_count": 11,
   "id": "b2acf039-3f2b-4a5a-9666-2cb15d229ab5",
   "metadata": {},
   "outputs": [],
   "source": [
    "import pandas as pd\n",
    "import matplotlib.pyplot as plt\n",
    "from scipy.stats import linregress\n",
    "\n",
    "def draw_plot():\n",
    "    # Read data from file\n",
    "    df = pd.read_csv('epa-sea-level.csv',index_col=0,float_precision='legacy', dtype='float64')\n",
    "\n",
    "    # Create scatter plot\n",
    "    plt.scatter(df.index,df['CSIRO Adjusted Sea Level'])\n",
    "\n",
    "    # Create first line of best fit\n",
    "    y = df['CSIRO Adjusted Sea Level']\n",
    "    x = df.index\n",
    "    (slope, intercept, rvalue, pvalue, stderr) = linregress(x,y)\n",
    "\n",
    "    #plt.xlim([1880,2050])\n",
    "    plt.scatter(df.index,df['CSIRO Adjusted Sea Level'],label='original data')\n",
    "    plt.xlabel('Year')\n",
    "    plt.ylabel('CSIRO Adjusted Sea Level')\n",
    "\n",
    "    x2 = list(range(1880, 2051))\n",
    "    y2 = []\n",
    "    for year in x2:\n",
    "        y2.append(intercept + slope*year)\n",
    "\n",
    "\n",
    "    #y_pred = intercept + slope*x\n",
    "    plt.plot(x2,y2, color=\"green\", label=\"Fitted line\",linewidth=3)\n",
    "    plt.legend()\n",
    "\n",
    "    # Create second line of best fit\n",
    "    df_sec = df.copy()\n",
    "    df_sec.reset_index(inplace = True)\n",
    "    df_sec=df_sec[df_sec['Year'] >= 2000 ]\n",
    "    df_sec=df_sec.set_index(['Year'])\n",
    "    y = df_sec['CSIRO Adjusted Sea Level']\n",
    "    x = df_sec.index\n",
    "    (slope, intercept, rvalue, pvalue, stderr) = linregress(x,y)\n",
    "\n",
    "    plt.scatter(df_sec.index,df_sec['CSIRO Adjusted Sea Level'],label='original data')\n",
    "   \n",
    "\n",
    "    x2 = list(range(2000, 2051))\n",
    "    y2 = []\n",
    "    for year in x2:\n",
    "        y2.append(intercept + slope*year)\n",
    "\n",
    "\n",
    "    plt.plot(x2,y2, color=\"green\", label=\"Fitted line\",linewidth=3)\n",
    "    plt.legend()\n",
    "\n",
    "    # Add labels and title\n",
    "    plt.xlabel('Year')\n",
    "    plt.ylabel('Sea Level (inches)')\n",
    "    plt.title('Rise in Sea Level')\n",
    "    \n",
    "    # Save plot and return data for testing (DO NOT MODIFY)\n",
    "    plt.savefig('sea_level_plot.png')\n",
    "    return plt.gca()"
   ]
  },
  {
   "cell_type": "code",
   "execution_count": null,
   "id": "4e1358ae-705f-4f5d-9271-9b309babe8d3",
   "metadata": {},
   "outputs": [],
   "source": []
  }
 ],
 "metadata": {
  "kernelspec": {
   "display_name": "Python 3",
   "language": "python",
   "name": "python3"
  },
  "language_info": {
   "codemirror_mode": {
    "name": "ipython",
    "version": 3
   },
   "file_extension": ".py",
   "mimetype": "text/x-python",
   "name": "python",
   "nbconvert_exporter": "python",
   "pygments_lexer": "ipython3",
   "version": "3.9.2"
  }
 },
 "nbformat": 4,
 "nbformat_minor": 5
}
