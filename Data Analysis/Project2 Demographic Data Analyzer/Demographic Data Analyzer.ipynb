{
 "cells": [
  {
   "cell_type": "code",
   "execution_count": 1,
   "metadata": {},
   "outputs": [
    {
     "name": "stdout",
     "output_type": "stream",
     "text": [
      "(32561, 15)\n"
     ]
    },
    {
     "data": {
      "text/html": [
       "<div>\n",
       "<style scoped>\n",
       "    .dataframe tbody tr th:only-of-type {\n",
       "        vertical-align: middle;\n",
       "    }\n",
       "\n",
       "    .dataframe tbody tr th {\n",
       "        vertical-align: top;\n",
       "    }\n",
       "\n",
       "    .dataframe thead th {\n",
       "        text-align: right;\n",
       "    }\n",
       "</style>\n",
       "<table border=\"1\" class=\"dataframe\">\n",
       "  <thead>\n",
       "    <tr style=\"text-align: right;\">\n",
       "      <th></th>\n",
       "      <th>age</th>\n",
       "      <th>workclass</th>\n",
       "      <th>fnlwgt</th>\n",
       "      <th>education</th>\n",
       "      <th>education-num</th>\n",
       "      <th>marital-status</th>\n",
       "      <th>occupation</th>\n",
       "      <th>relationship</th>\n",
       "      <th>race</th>\n",
       "      <th>sex</th>\n",
       "      <th>capital-gain</th>\n",
       "      <th>capital-loss</th>\n",
       "      <th>hours-per-week</th>\n",
       "      <th>native-country</th>\n",
       "      <th>salary</th>\n",
       "    </tr>\n",
       "  </thead>\n",
       "  <tbody>\n",
       "    <tr>\n",
       "      <th>0</th>\n",
       "      <td>39</td>\n",
       "      <td>State-gov</td>\n",
       "      <td>77516</td>\n",
       "      <td>Bachelors</td>\n",
       "      <td>13</td>\n",
       "      <td>Never-married</td>\n",
       "      <td>Adm-clerical</td>\n",
       "      <td>Not-in-family</td>\n",
       "      <td>White</td>\n",
       "      <td>Male</td>\n",
       "      <td>2174</td>\n",
       "      <td>0</td>\n",
       "      <td>40</td>\n",
       "      <td>United-States</td>\n",
       "      <td>&lt;=50K</td>\n",
       "    </tr>\n",
       "    <tr>\n",
       "      <th>1</th>\n",
       "      <td>50</td>\n",
       "      <td>Self-emp-not-inc</td>\n",
       "      <td>83311</td>\n",
       "      <td>Bachelors</td>\n",
       "      <td>13</td>\n",
       "      <td>Married-civ-spouse</td>\n",
       "      <td>Exec-managerial</td>\n",
       "      <td>Husband</td>\n",
       "      <td>White</td>\n",
       "      <td>Male</td>\n",
       "      <td>0</td>\n",
       "      <td>0</td>\n",
       "      <td>13</td>\n",
       "      <td>United-States</td>\n",
       "      <td>&lt;=50K</td>\n",
       "    </tr>\n",
       "    <tr>\n",
       "      <th>2</th>\n",
       "      <td>38</td>\n",
       "      <td>Private</td>\n",
       "      <td>215646</td>\n",
       "      <td>HS-grad</td>\n",
       "      <td>9</td>\n",
       "      <td>Divorced</td>\n",
       "      <td>Handlers-cleaners</td>\n",
       "      <td>Not-in-family</td>\n",
       "      <td>White</td>\n",
       "      <td>Male</td>\n",
       "      <td>0</td>\n",
       "      <td>0</td>\n",
       "      <td>40</td>\n",
       "      <td>United-States</td>\n",
       "      <td>&lt;=50K</td>\n",
       "    </tr>\n",
       "    <tr>\n",
       "      <th>3</th>\n",
       "      <td>53</td>\n",
       "      <td>Private</td>\n",
       "      <td>234721</td>\n",
       "      <td>11th</td>\n",
       "      <td>7</td>\n",
       "      <td>Married-civ-spouse</td>\n",
       "      <td>Handlers-cleaners</td>\n",
       "      <td>Husband</td>\n",
       "      <td>Black</td>\n",
       "      <td>Male</td>\n",
       "      <td>0</td>\n",
       "      <td>0</td>\n",
       "      <td>40</td>\n",
       "      <td>United-States</td>\n",
       "      <td>&lt;=50K</td>\n",
       "    </tr>\n",
       "    <tr>\n",
       "      <th>4</th>\n",
       "      <td>28</td>\n",
       "      <td>Private</td>\n",
       "      <td>338409</td>\n",
       "      <td>Bachelors</td>\n",
       "      <td>13</td>\n",
       "      <td>Married-civ-spouse</td>\n",
       "      <td>Prof-specialty</td>\n",
       "      <td>Wife</td>\n",
       "      <td>Black</td>\n",
       "      <td>Female</td>\n",
       "      <td>0</td>\n",
       "      <td>0</td>\n",
       "      <td>40</td>\n",
       "      <td>Cuba</td>\n",
       "      <td>&lt;=50K</td>\n",
       "    </tr>\n",
       "  </tbody>\n",
       "</table>\n",
       "</div>"
      ],
      "text/plain": [
       "   age         workclass  fnlwgt  education  education-num  \\\n",
       "0   39         State-gov   77516  Bachelors             13   \n",
       "1   50  Self-emp-not-inc   83311  Bachelors             13   \n",
       "2   38           Private  215646    HS-grad              9   \n",
       "3   53           Private  234721       11th              7   \n",
       "4   28           Private  338409  Bachelors             13   \n",
       "\n",
       "       marital-status         occupation   relationship   race     sex  \\\n",
       "0       Never-married       Adm-clerical  Not-in-family  White    Male   \n",
       "1  Married-civ-spouse    Exec-managerial        Husband  White    Male   \n",
       "2            Divorced  Handlers-cleaners  Not-in-family  White    Male   \n",
       "3  Married-civ-spouse  Handlers-cleaners        Husband  Black    Male   \n",
       "4  Married-civ-spouse     Prof-specialty           Wife  Black  Female   \n",
       "\n",
       "   capital-gain  capital-loss  hours-per-week native-country salary  \n",
       "0          2174             0              40  United-States  <=50K  \n",
       "1             0             0              13  United-States  <=50K  \n",
       "2             0             0              40  United-States  <=50K  \n",
       "3             0             0              40  United-States  <=50K  \n",
       "4             0             0              40           Cuba  <=50K  "
      ]
     },
     "execution_count": 1,
     "metadata": {},
     "output_type": "execute_result"
    }
   ],
   "source": [
    "import pandas as pd\n",
    "\n",
    "df = pd.read_csv('adult.data.csv')\n",
    "print(df.shape)\n",
    "df.head()\n",
    "\n"
   ]
  },
  {
   "cell_type": "code",
   "execution_count": 2,
   "metadata": {},
   "outputs": [
    {
     "name": "stdout",
     "output_type": "stream",
     "text": [
      "White                 27816\n",
      "Black                  3124\n",
      "Asian-Pac-Islander     1039\n",
      "Amer-Indian-Eskimo      311\n",
      "Other                   271\n",
      "Name: race, dtype: int64\n"
     ]
    }
   ],
   "source": [
    "#How many people of each race are represented in this dataset? \n",
    "\n",
    "print(df['race'].value_counts())"
   ]
  },
  {
   "cell_type": "code",
   "execution_count": 3,
   "metadata": {},
   "outputs": [
    {
     "name": "stdout",
     "output_type": "stream",
     "text": [
      "38.58164675532078\n"
     ]
    }
   ],
   "source": [
    "#What is the average age of men?\n",
    "\n",
    "averageAge = df['age'].mean()\n",
    "print(averageAge)"
   ]
  },
  {
   "cell_type": "code",
   "execution_count": 4,
   "metadata": {},
   "outputs": [
    {
     "name": "stdout",
     "output_type": "stream",
     "text": [
      "16.44605509658794\n"
     ]
    }
   ],
   "source": [
    "#What is the percentage of people who have a Bachelor's degree?\n",
    "\n",
    "mask = df['education'] == 'Bachelors'\n",
    "perBach = (len(df[mask])/ len(df['education'])) * 100\n",
    "print(perBach)"
   ]
  },
  {
   "cell_type": "code",
   "execution_count": 5,
   "metadata": {},
   "outputs": [
    {
     "data": {
      "text/plain": [
       "46.5"
      ]
     },
     "execution_count": 5,
     "metadata": {},
     "output_type": "execute_result"
    }
   ],
   "source": [
    "#What percentage of people with advanced education (`Bachelors`, `Masters`, or `Doctorate`) make more than 50K?\n",
    "\n",
    "edu = ['Bachelors','Masters', 'Doctorate']\n",
    "mask1 = (df['salary'].str.contains('>50K')) & (df['education'].isin(edu))\n",
    "#df[mask1].head(20)\n",
    "mask2 = df['education'].isin(edu) & (df['salary'])\n",
    "#df[mask2].head(20)\n",
    "#print(len(df[mask1]))\n",
    "#print(len(df[mask2]))\n",
    "higher_education_rich = round(((len(df[mask1]) / len(df[mask2])) * 100) ,1)\n",
    "higher_education_rich"
   ]
  },
  {
   "cell_type": "code",
   "execution_count": 6,
   "metadata": {},
   "outputs": [
    {
     "data": {
      "text/plain": [
       "17.4"
      ]
     },
     "execution_count": 6,
     "metadata": {},
     "output_type": "execute_result"
    }
   ],
   "source": [
    "#What percentage of people without advanced education make more than 50K?\n",
    "\n",
    "edu = ['Bachelors','Masters', 'Doctorate']\n",
    "mask1 = (df['salary'].str.contains('>50K')) & (~df['education'].isin(edu))\n",
    "#df[mask1].head(20)\n",
    "mask2 = (~df['education'].isin(edu)) & (df['salary'])\n",
    "#df[mask2].head(20)\n",
    "#print(len(df[mask1]))\n",
    "#print(len(df[mask2]))\n",
    "lower_education_rich = round(((len(df[mask1]) / len(df[mask2])) * 100) ,1)\n",
    "lower_education_rich"
   ]
  },
  {
   "cell_type": "code",
   "execution_count": 7,
   "metadata": {},
   "outputs": [
    {
     "data": {
      "text/plain": [
       "1"
      ]
     },
     "execution_count": 7,
     "metadata": {},
     "output_type": "execute_result"
    }
   ],
   "source": [
    "#What is the minimum number of hours a person works per week?\n",
    "\n",
    "min_work_hours = df['hours-per-week'].min()\n",
    "min_work_hours\n"
   ]
  },
  {
   "cell_type": "code",
   "execution_count": 8,
   "metadata": {},
   "outputs": [
    {
     "name": "stdout",
     "output_type": "stream",
     "text": [
      "10.0\n"
     ]
    }
   ],
   "source": [
    "#What percentage of the people who work the minimum number of hours per week have a salary of more than 50K?\n",
    "#mask1 = (df['salary'].str.contains('>50K') & df['hours-per-week']==min_work_hours)\n",
    "\n",
    "mask1 = (df['hours-per-week']==min_work_hours) & (df['salary'].str.contains('>50K'))\n",
    "df[mask1]\n",
    "mask2 = (df['hours-per-week']==min_work_hours & (df['salary'].str.contains('>50K') | df['salary'].str.contains('<=50K') ))\n",
    "per = (len(df[mask1]) / len(df[mask2])) * 100\n",
    "print(per)"
   ]
  },
  {
   "cell_type": "code",
   "execution_count": 9,
   "metadata": {},
   "outputs": [
    {
     "name": "stdout",
     "output_type": "stream",
     "text": [
      "41.86046511627907\n",
      "Iran\n"
     ]
    }
   ],
   "source": [
    "#What country has the highest percentage of people that earn >50K and what is that percentage?\n",
    "\n",
    "high_earners_df = pd.DataFrame(df[df['salary']  == '>50K'].groupby('native-country')['salary'].count())\n",
    "high_earners_df = high_earners_df.rename(columns={\"salary\": \"high-earners\"}).reset_index()\n",
    "total_earners_df = pd.DataFrame(df[df['salary']  == '<=50K'].groupby('native-country')['salary'].count())\n",
    "total_earners_df = total_earners_df.rename(columns={\"salary\": \"total-earners\"}).reset_index()\n",
    "total_earners_df = total_earners_df.merge(high_earners_df, on='native-country')\n",
    "total_earners_df['total-earners'] += total_earners_df['high-earners']\n",
    "total_earners_df['ratio'] = total_earners_df['high-earners'] / total_earners_df['total-earners']\n",
    "percentage = total_earners_df['ratio'].max()*100\n",
    "print(percentage)\n",
    "country = total_earners_df.sort_values('ratio', ascending=False).head(1)\n",
    "print(country.iloc[0]['native-country'])\n",
    "\n",
    "\n",
    "\n",
    "\n",
    "\n"
   ]
  },
  {
   "cell_type": "code",
   "execution_count": 10,
   "metadata": {},
   "outputs": [
    {
     "data": {
      "text/plain": [
       "'Prof-specialty'"
      ]
     },
     "execution_count": 10,
     "metadata": {},
     "output_type": "execute_result"
    }
   ],
   "source": [
    "#Identify the most popular occupation for those who earn >50K in India. \n",
    "\n",
    "mask1 = df['salary'].str.contains('>50K') & df['native-country'].str.contains('India')\n",
    "df[mask1]['occupation'].value_counts().idxmax()"
   ]
  },
  {
   "cell_type": "code",
   "execution_count": 11,
   "metadata": {},
   "outputs": [
    {
     "data": {
      "text/plain": [
       "20"
      ]
     },
     "execution_count": 11,
     "metadata": {},
     "output_type": "execute_result"
    }
   ],
   "source": [
    "#num_min_worker\n",
    "\n",
    "df[df['hours-per-week']==min_work_hours]['hours-per-week'].count()"
   ]
  },
  {
   "cell_type": "code",
   "execution_count": 12,
   "metadata": {},
   "outputs": [],
   "source": [
    "import pandas as pd\n",
    "\n",
    "\n",
    "def calculate_demographic_data(print_data=True):\n",
    "    # Read data from file\n",
    "    df = pd.read_csv('adult.data.csv')\n",
    "\n",
    "    # How many of each race are represented in this dataset? This should be a Pandas series with race names as the index labels.\n",
    "    race_count = df['race'].value_counts()\n",
    "\n",
    "    # What is the average age of men?\n",
    "    average_age_men = df.loc[df['sex']=='Male']['age'].mean().round(decimals = 1)\n",
    "\n",
    "    # What is the percentage of people who have a Bachelor's degree?\n",
    "    bachelors_count = df.loc[df['education'] == 'Bachelors']['education'].count()\n",
    "    total_count = df['education'].count()\n",
    "    percentage_bachelors = (bachelors_count / total_count * 100).round(decimals=1)\n",
    "\n",
    "\n",
    "    # What percentage of people with advanced education (`Bachelors`, `Masters`, or `Doctorate`) make more than 50K?\n",
    "    # What percentage of people without advanced education make more than 50K?\n",
    "\n",
    "    # with and without `Bachelors`, `Masters`, or `Doctorate`\n",
    "    higher_education = None\n",
    "    lower_education = None\n",
    "\n",
    "    # percentage with salary >50K\n",
    "    edu = ['Bachelors','Masters', 'Doctorate']\n",
    "    mask1 = (df['salary'].str.contains('>50K')) & (df['education'].isin(edu))\n",
    "    #df[mask1].head(20)\n",
    "    mask2 = df['education'].isin(edu) & (df['salary'])\n",
    "    #df[mask2].head(20)\n",
    "    #print(len(df[mask1]))\n",
    "    #print(len(df[mask2]))\n",
    "    higher_education_rich = round(((len(df[mask1]) / len(df[mask2])) * 100) ,1)\n",
    "\n",
    "    mask1 = (df['salary'].str.contains('>50K')) & (~df['education'].isin(edu))\n",
    "    mask2 = (~df['education'].isin(edu)) & (df['salary'])\n",
    "    lower_education_rich = round(((len(df[mask1]) / len(df[mask2])) * 100) ,1)\n",
    "\n",
    "    # What is the minimum number of hours a person works per week (hours-per-week feature)?\n",
    "    min_work_hours = df['hours-per-week'].min()\n",
    "\n",
    "    # What percentage of the people who work the minimum number of hours per week have a salary of >50K?\n",
    "    num_min_workers = df[df['hours-per-week']==min_work_hours]['hours-per-week'].count()\n",
    "    mask = (df['salary'].str.contains('>50K')) & (df['hours-per-week'].min())\n",
    "    \n",
    "\n",
    "    mask1 = (df['hours-per-week']==min_work_hours) & (df['salary'].str.contains('>50K'))\n",
    "    #df[mask1]\n",
    "    mask2 = (df['hours-per-week']==min_work_hours & (df['salary'].str.contains('>50K') | df['salary'].str.contains('<=50K') ))\n",
    "    (len(df[mask1]) / len(df[mask2])) * 100\n",
    "    rich_percentage =(len(df[mask1]) / len(df[mask2])) * 100\n",
    "\n",
    "\n",
    "    # What country has the highest percentage of people that earn >50K?\n",
    "    high_earners_df = pd.DataFrame(df[df['salary']  == '>50K'].groupby('native-country')['salary'].count())\n",
    "    high_earners_df = high_earners_df.rename(columns={\"salary\": \"high-earners\"}).reset_index()\n",
    "    total_earners_df = pd.DataFrame(df[df['salary']  == '<=50K'].groupby('native-country')['salary'].count())\n",
    "    total_earners_df = total_earners_df.rename(columns={\"salary\": \"total-earners\"}).reset_index()\n",
    "    total_earners_df = total_earners_df.merge(high_earners_df, on='native-country')\n",
    "    total_earners_df['total-earners'] += total_earners_df['high-earners']\n",
    "    total_earners_df['ratio'] = total_earners_df['high-earners'] / total_earners_df['total-earners']\n",
    "    percentage = round(total_earners_df['ratio'].max()*100,1)\n",
    "    country = total_earners_df.sort_values('ratio', ascending=False).head(1)\n",
    "    \n",
    "    highest_earning_country =country.iloc[0]['native-country']\n",
    "    highest_earning_country_percentage = percentage\n",
    "\n",
    "    # Identify the most popular occupation for those who earn >50K in India.\n",
    "    mask1 = df['salary'].str.contains('>50K') & df['native-country'].str.contains('India')\n",
    "\n",
    "\n",
    "    top_IN_occupation =df[mask1]['occupation'].value_counts().idxmax()\n",
    "\n",
    "    # DO NOT MODIFY BELOW THIS LINE\n",
    "\n",
    "    if print_data:\n",
    "        print(\"Number of each race:\\n\", race_count) \n",
    "        print(\"Average age of men:\", average_age_men)\n",
    "        print(f\"Percentage with Bachelors degrees: {percentage_bachelors}%\")\n",
    "        print(f\"Percentage with higher education that earn >50K: {higher_education_rich}%\")\n",
    "        print(f\"Percentage without higher education that earn >50K: {lower_education_rich}%\")\n",
    "        print(f\"Min work time: {min_work_hours} hours/week\")\n",
    "        print(f\"Percentage of rich among those who work fewest hours: {rich_percentage}%\")\n",
    "        print(\"Country with highest percentage of rich:\", highest_earning_country)\n",
    "        print(f\"Highest percentage of rich people in country: {highest_earning_country_percentage}%\")\n",
    "        print(\"Top occupations in India:\", top_IN_occupation)\n",
    "\n",
    "    return {\n",
    "        'race_count': race_count,\n",
    "        'average_age_men': average_age_men,\n",
    "        'percentage_bachelors': percentage_bachelors,\n",
    "        'higher_education_rich': higher_education_rich,\n",
    "        'lower_education_rich': lower_education_rich,\n",
    "        'min_work_hours': min_work_hours,\n",
    "        'rich_percentage': rich_percentage,\n",
    "        'highest_earning_country': highest_earning_country,\n",
    "        'highest_earning_country_percentage':\n",
    "        highest_earning_country_percentage,\n",
    "        'top_IN_occupation': top_IN_occupation\n",
    "    }\n"
   ]
  }
 ],
 "metadata": {
  "kernelspec": {
   "display_name": "Python 3",
   "language": "python",
   "name": "python3"
  },
  "language_info": {
   "codemirror_mode": {
    "name": "ipython",
    "version": 3
   },
   "file_extension": ".py",
   "mimetype": "text/x-python",
   "name": "python",
   "nbconvert_exporter": "python",
   "pygments_lexer": "ipython3",
   "version": "3.9.2"
  }
 },
 "nbformat": 4,
 "nbformat_minor": 4
}
